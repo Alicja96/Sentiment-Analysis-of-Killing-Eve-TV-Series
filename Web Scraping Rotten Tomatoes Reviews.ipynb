{
 "cells": [
  {
   "cell_type": "markdown",
   "metadata": {},
   "source": [
    "# Web Scraping Reviews from Rotten Tomatoes"
   ]
  },
  {
   "cell_type": "code",
   "execution_count": 1,
   "metadata": {},
   "outputs": [],
   "source": [
    "from bs4 import BeautifulSoup \n",
    "import requests\n",
    "import pandas as pd \n",
    "import re"
   ]
  },
  {
   "cell_type": "code",
   "execution_count": 2,
   "metadata": {},
   "outputs": [],
   "source": [
    "reviews=[] #for storing reviews\n",
    "sentiment=[] #for storing the sentiment of reviews\n",
    "date = [] #for storing dates\n",
    "\n",
    "async def getData(season,page):\n",
    "    res = requests.get(f'https://www.rottentomatoes.com/tv/killing_eve/s0{season}/reviews?type=&sort=&page={page}')\n",
    "    soup = BeautifulSoup(res.text,'lxml')\n",
    "    \n",
    "    rev=soup.find_all('div',{'class':'critic__review-quote'})\n",
    "    review = [i.text for i in rev]\n",
    "    \n",
    "    sentiments=soup.find_all('div',{'class':'review_icon'})\n",
    "    find_sentiment= re.findall(r'rotten|fresh',str(sentiments))\n",
    "    \n",
    "    dates = soup.find_all('div',{'class':'critic__review-date subtle small'})\n",
    "    d = [i.text for i in dates]\n",
    "    \n",
    "    reviews.extend(review)\n",
    "    sentiment.extend(find_sentiment)\n",
    "    date.extend(d)\n",
    "    \n",
    "    \n",
    "for season in range(1,4):\n",
    "    for page in range(1,6):\n",
    "        await getData(season,page)\n",
    "\n",
    "     "
   ]
  },
  {
   "cell_type": "code",
   "execution_count": 3,
   "metadata": {},
   "outputs": [],
   "source": [
    "df = pd.DataFrame({'reviews': reviews,'sentiment': sentiment,'date':date})"
   ]
  },
  {
   "cell_type": "code",
   "execution_count": 4,
   "metadata": {},
   "outputs": [
    {
     "data": {
      "text/html": [
       "<div>\n",
       "<style scoped>\n",
       "    .dataframe tbody tr th:only-of-type {\n",
       "        vertical-align: middle;\n",
       "    }\n",
       "\n",
       "    .dataframe tbody tr th {\n",
       "        vertical-align: top;\n",
       "    }\n",
       "\n",
       "    .dataframe thead th {\n",
       "        text-align: right;\n",
       "    }\n",
       "</style>\n",
       "<table border=\"1\" class=\"dataframe\">\n",
       "  <thead>\n",
       "    <tr style=\"text-align: right;\">\n",
       "      <th></th>\n",
       "      <th>reviews</th>\n",
       "      <th>sentiment</th>\n",
       "      <th>date</th>\n",
       "    </tr>\n",
       "  </thead>\n",
       "  <tbody>\n",
       "    <tr>\n",
       "      <th>0</th>\n",
       "      <td>\\n                                    It manag...</td>\n",
       "      <td>fresh</td>\n",
       "      <td>\\n                                April 15, 20...</td>\n",
       "    </tr>\n",
       "    <tr>\n",
       "      <th>1</th>\n",
       "      <td>\\n                                    Sandra O...</td>\n",
       "      <td>fresh</td>\n",
       "      <td>\\n                                January 11, ...</td>\n",
       "    </tr>\n",
       "    <tr>\n",
       "      <th>2</th>\n",
       "      <td>\\n                                    What dis...</td>\n",
       "      <td>fresh</td>\n",
       "      <td>\\n                                September 10...</td>\n",
       "    </tr>\n",
       "    <tr>\n",
       "      <th>3</th>\n",
       "      <td>\\n                                    [A] perf...</td>\n",
       "      <td>fresh</td>\n",
       "      <td>\\n                                May 14, 2019...</td>\n",
       "    </tr>\n",
       "    <tr>\n",
       "      <th>4</th>\n",
       "      <td>\\n                                    The Brit...</td>\n",
       "      <td>fresh</td>\n",
       "      <td>\\n                                April 12, 20...</td>\n",
       "    </tr>\n",
       "  </tbody>\n",
       "</table>\n",
       "</div>"
      ],
      "text/plain": [
       "                                             reviews sentiment  \\\n",
       "0  \\n                                    It manag...     fresh   \n",
       "1  \\n                                    Sandra O...     fresh   \n",
       "2  \\n                                    What dis...     fresh   \n",
       "3  \\n                                    [A] perf...     fresh   \n",
       "4  \\n                                    The Brit...     fresh   \n",
       "\n",
       "                                                date  \n",
       "0  \\n                                April 15, 20...  \n",
       "1  \\n                                January 11, ...  \n",
       "2  \\n                                September 10...  \n",
       "3  \\n                                May 14, 2019...  \n",
       "4  \\n                                April 12, 20...  "
      ]
     },
     "execution_count": 4,
     "metadata": {},
     "output_type": "execute_result"
    }
   ],
   "source": [
    "df.head()"
   ]
  },
  {
   "cell_type": "code",
   "execution_count": 5,
   "metadata": {},
   "outputs": [],
   "source": [
    "df['sentiment'].replace(['fresh', 'rotten'], ['positive', 'negative'], inplace=True)"
   ]
  },
  {
   "cell_type": "code",
   "execution_count": 6,
   "metadata": {},
   "outputs": [],
   "source": [
    "df = df.replace(r'\\n',  '', regex=True)"
   ]
  },
  {
   "cell_type": "code",
   "execution_count": 7,
   "metadata": {},
   "outputs": [
    {
     "data": {
      "text/html": [
       "<div>\n",
       "<style scoped>\n",
       "    .dataframe tbody tr th:only-of-type {\n",
       "        vertical-align: middle;\n",
       "    }\n",
       "\n",
       "    .dataframe tbody tr th {\n",
       "        vertical-align: top;\n",
       "    }\n",
       "\n",
       "    .dataframe thead th {\n",
       "        text-align: right;\n",
       "    }\n",
       "</style>\n",
       "<table border=\"1\" class=\"dataframe\">\n",
       "  <thead>\n",
       "    <tr style=\"text-align: right;\">\n",
       "      <th></th>\n",
       "      <th>reviews</th>\n",
       "      <th>sentiment</th>\n",
       "      <th>date</th>\n",
       "    </tr>\n",
       "  </thead>\n",
       "  <tbody>\n",
       "    <tr>\n",
       "      <th>0</th>\n",
       "      <td>It manages...</td>\n",
       "      <td>positive</td>\n",
       "      <td>April 15, 2020...</td>\n",
       "    </tr>\n",
       "    <tr>\n",
       "      <th>1</th>\n",
       "      <td>Sandra Oh ...</td>\n",
       "      <td>positive</td>\n",
       "      <td>January 11, 20...</td>\n",
       "    </tr>\n",
       "    <tr>\n",
       "      <th>2</th>\n",
       "      <td>What disti...</td>\n",
       "      <td>positive</td>\n",
       "      <td>September 10, ...</td>\n",
       "    </tr>\n",
       "    <tr>\n",
       "      <th>3</th>\n",
       "      <td>[A] perfec...</td>\n",
       "      <td>positive</td>\n",
       "      <td>May 14, 2019  ...</td>\n",
       "    </tr>\n",
       "    <tr>\n",
       "      <th>4</th>\n",
       "      <td>The Britis...</td>\n",
       "      <td>positive</td>\n",
       "      <td>April 12, 2019...</td>\n",
       "    </tr>\n",
       "  </tbody>\n",
       "</table>\n",
       "</div>"
      ],
      "text/plain": [
       "                                             reviews sentiment  \\\n",
       "0                                      It manages...  positive   \n",
       "1                                      Sandra Oh ...  positive   \n",
       "2                                      What disti...  positive   \n",
       "3                                      [A] perfec...  positive   \n",
       "4                                      The Britis...  positive   \n",
       "\n",
       "                                                date  \n",
       "0                                  April 15, 2020...  \n",
       "1                                  January 11, 20...  \n",
       "2                                  September 10, ...  \n",
       "3                                  May 14, 2019  ...  \n",
       "4                                  April 12, 2019...  "
      ]
     },
     "execution_count": 7,
     "metadata": {},
     "output_type": "execute_result"
    }
   ],
   "source": [
    "df.head()"
   ]
  },
  {
   "cell_type": "code",
   "execution_count": 8,
   "metadata": {},
   "outputs": [],
   "source": [
    "df.to_csv('rotten_tomatoes_reviews.csv',index=False)"
   ]
  }
 ],
 "metadata": {
  "kernelspec": {
   "display_name": "Python 3",
   "language": "python",
   "name": "python3"
  },
  "language_info": {
   "codemirror_mode": {
    "name": "ipython",
    "version": 3
   },
   "file_extension": ".py",
   "mimetype": "text/x-python",
   "name": "python",
   "nbconvert_exporter": "python",
   "pygments_lexer": "ipython3",
   "version": "3.7.6"
  }
 },
 "nbformat": 4,
 "nbformat_minor": 4
}
